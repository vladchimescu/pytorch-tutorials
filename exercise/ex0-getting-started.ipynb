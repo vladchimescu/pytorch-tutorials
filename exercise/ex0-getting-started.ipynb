{
 "cells": [
  {
   "cell_type": "markdown",
   "id": "bea49a01",
   "metadata": {},
   "source": [
    "# Getting Started with PyTorch"
   ]
  },
  {
   "cell_type": "code",
   "execution_count": null,
   "id": "89595db1",
   "metadata": {},
   "outputs": [],
   "source": [
    "%matplotlib inline\n",
    "import torch\n",
    "import numpy as np"
   ]
  },
  {
   "cell_type": "markdown",
   "id": "e85b32e7",
   "metadata": {},
   "source": [
    "## 1. Initializing tensors from lists and arrays\n",
    "Initialize a tensor from a list:"
   ]
  },
  {
   "cell_type": "code",
   "execution_count": null,
   "id": "2f5dca51",
   "metadata": {},
   "outputs": [],
   "source": [
    "data = [[1, 2],[3, 4]]\n",
    "x_data = torch.tensor(data)"
   ]
  },
  {
   "cell_type": "markdown",
   "id": "b3438b12",
   "metadata": {},
   "source": [
    "Initialize a tensor from a `numpy` array:"
   ]
  },
  {
   "cell_type": "code",
   "execution_count": null,
   "id": "0c952f66",
   "metadata": {},
   "outputs": [],
   "source": [
    "np_array = np.array(data)\n",
    "x_np = torch.from_numpy(np_array)"
   ]
  },
  {
   "cell_type": "markdown",
   "id": "fd5266ec",
   "metadata": {},
   "source": [
    "These should be identical:"
   ]
  },
  {
   "cell_type": "code",
   "execution_count": null,
   "id": "a99dd022",
   "metadata": {},
   "outputs": [],
   "source": [
    "x_data == x_np"
   ]
  },
  {
   "cell_type": "code",
   "execution_count": null,
   "id": "69b24231",
   "metadata": {},
   "outputs": [],
   "source": [
    "np.random.seed(22)\n",
    "arr = np.random.uniform(size=(3,3))\n",
    "x_rand = torch.from_numpy(arr)"
   ]
  },
  {
   "cell_type": "markdown",
   "id": "18d77e54",
   "metadata": {},
   "source": [
    "Tensor slicing and indexing:"
   ]
  },
  {
   "cell_type": "code",
   "execution_count": null,
   "id": "7bb4f182",
   "metadata": {},
   "outputs": [],
   "source": [
    "# first row\n",
    "x_rand[0,:]"
   ]
  },
  {
   "cell_type": "code",
   "execution_count": null,
   "id": "370276d5",
   "metadata": {},
   "outputs": [],
   "source": [
    "# first column\n",
    "x_rand[:,0]"
   ]
  },
  {
   "cell_type": "code",
   "execution_count": null,
   "id": "d72b872b",
   "metadata": {},
   "outputs": [],
   "source": [
    "# last row\n",
    "x_rand[-1,:]"
   ]
  },
  {
   "cell_type": "code",
   "execution_count": null,
   "id": "b97cc664",
   "metadata": {},
   "outputs": [],
   "source": [
    "# last column\n",
    "x_rand[:,-1]"
   ]
  },
  {
   "cell_type": "code",
   "execution_count": null,
   "id": "cdcf8950",
   "metadata": {},
   "outputs": [],
   "source": [
    "x_rand"
   ]
  },
  {
   "cell_type": "markdown",
   "id": "68e4971e",
   "metadata": {},
   "source": [
    "## 2. Native tensor initialization"
   ]
  },
  {
   "cell_type": "code",
   "execution_count": null,
   "id": "50ccbc7d",
   "metadata": {},
   "outputs": [],
   "source": [
    "torch.ones((3,3))"
   ]
  },
  {
   "cell_type": "code",
   "execution_count": null,
   "id": "ca2c03aa",
   "metadata": {},
   "outputs": [],
   "source": [
    "torch.zeros((2,2))"
   ]
  },
  {
   "cell_type": "code",
   "execution_count": null,
   "id": "b1e176d3",
   "metadata": {},
   "outputs": [],
   "source": [
    "torch.linspace(0,10,11)"
   ]
  },
  {
   "cell_type": "code",
   "execution_count": null,
   "id": "b579fdd6",
   "metadata": {},
   "outputs": [],
   "source": [
    "torch.arange(11)"
   ]
  },
  {
   "cell_type": "code",
   "execution_count": null,
   "id": "3b229aee",
   "metadata": {},
   "outputs": [],
   "source": [
    "torch.manual_seed(22)\n",
    "torch.rand((3,3))\n",
    "\n",
    "# what is 'torch.random.seed()'?"
   ]
  },
  {
   "cell_type": "markdown",
   "id": "3227c5a1",
   "metadata": {},
   "source": [
    "Reshape the tensor:"
   ]
  },
  {
   "cell_type": "code",
   "execution_count": null,
   "id": "bfba3fa6",
   "metadata": {},
   "outputs": [],
   "source": [
    "a = torch.arange(1,5)\n",
    "a.reshape((2,2))"
   ]
  },
  {
   "cell_type": "code",
   "execution_count": null,
   "id": "83e7ffc7",
   "metadata": {},
   "outputs": [],
   "source": [
    "torch.reshape(a, (2,2))"
   ]
  },
  {
   "cell_type": "code",
   "execution_count": null,
   "id": "2061cbdd",
   "metadata": {},
   "outputs": [],
   "source": [
    "x_ones = torch.ones_like(x_data) # retains the properties of x_data\n",
    "print(f\"Ones Tensor: \\n {x_ones} \\n\")"
   ]
  },
  {
   "cell_type": "code",
   "execution_count": null,
   "id": "a21b3ada",
   "metadata": {},
   "outputs": [],
   "source": [
    "torch.manual_seed(22)\n",
    "x_rand = torch.rand_like(x_data, dtype=torch.float) # overrides the datatype of x_data\n",
    "print(f\"Random Tensor: \\n {x_rand} \\n\")"
   ]
  },
  {
   "cell_type": "code",
   "execution_count": null,
   "id": "7733633e",
   "metadata": {},
   "outputs": [],
   "source": [
    "shape = (2,3,)\n",
    "rand_tensor = torch.rand(shape)\n",
    "ones_tensor = torch.ones(shape)\n",
    "zeros_tensor = torch.zeros(shape)\n",
    "\n",
    "print(f\"Random Tensor: \\n {rand_tensor} \\n\")\n",
    "print(f\"Ones Tensor: \\n {ones_tensor} \\n\")\n",
    "print(f\"Zeros Tensor: \\n {zeros_tensor}\")"
   ]
  },
  {
   "cell_type": "markdown",
   "id": "6844894f",
   "metadata": {},
   "source": [
    "Attributes of a tensor:"
   ]
  },
  {
   "cell_type": "code",
   "execution_count": null,
   "id": "40f478ef",
   "metadata": {},
   "outputs": [],
   "source": [
    "tensor = torch.rand(3,4)\n",
    "\n",
    "print(f\"Shape of tensor: {tensor.shape}\")\n",
    "print(f\"Datatype of tensor: {tensor.dtype}\")\n",
    "print(f\"Device tensor is stored on: {tensor.device}\")"
   ]
  },
  {
   "cell_type": "markdown",
   "id": "15a4481b",
   "metadata": {},
   "source": [
    "## Operations on Tensors"
   ]
  },
  {
   "cell_type": "markdown",
   "id": "e67cb179",
   "metadata": {},
   "source": [
    "By default, tensors are created on the CPU. We need to explicitly move tensors to the GPU using\n",
    "``.to`` method (after checking for GPU availability). Keep in mind that copying large tensors\n",
    "across devices can be expensive in terms of time and memory!"
   ]
  },
  {
   "cell_type": "code",
   "execution_count": null,
   "id": "c0404dc3",
   "metadata": {},
   "outputs": [],
   "source": [
    "# We move our tensor to the GPU if available\n",
    "if torch.cuda.is_available():\n",
    "    tensor = tensor.to('cuda')"
   ]
  },
  {
   "cell_type": "code",
   "execution_count": null,
   "id": "b7a6d65d",
   "metadata": {},
   "outputs": [],
   "source": [
    "tensor = torch.ones(4, 4)"
   ]
  },
  {
   "cell_type": "markdown",
   "id": "1464b414",
   "metadata": {},
   "source": [
    "Concatenate tensors:"
   ]
  },
  {
   "cell_type": "code",
   "execution_count": null,
   "id": "210dcccf",
   "metadata": {},
   "outputs": [],
   "source": [
    "t1 = torch.cat([tensor, tensor, tensor], dim=1)\n",
    "print(t1)\n",
    "print(t1.shape)"
   ]
  },
  {
   "cell_type": "code",
   "execution_count": null,
   "id": "6b4b08f5",
   "metadata": {},
   "outputs": [],
   "source": [
    "t2 = torch.cat([tensor, tensor], dim=0)\n",
    "print(t2)\n",
    "print(t2.shape)"
   ]
  },
  {
   "cell_type": "markdown",
   "id": "14b925b5",
   "metadata": {},
   "source": [
    "`torch.stack` creates an extra dimension for accumulating tensors:"
   ]
  },
  {
   "cell_type": "code",
   "execution_count": null,
   "id": "75241a75",
   "metadata": {},
   "outputs": [],
   "source": [
    "t3 = torch.stack([tensor, tensor], dim=0)\n",
    "print(t3)\n",
    "print(t3.shape)"
   ]
  },
  {
   "cell_type": "markdown",
   "id": "3002830a",
   "metadata": {},
   "source": [
    "Matrix multiplication:"
   ]
  },
  {
   "cell_type": "code",
   "execution_count": null,
   "id": "c389032c",
   "metadata": {},
   "outputs": [],
   "source": [
    "# This computes the matrix multiplication between two tensors. y1, y2, y3 will have the same value\n",
    "y1 = tensor @ tensor.T\n",
    "y2 = tensor.matmul(tensor.T)"
   ]
  },
  {
   "cell_type": "code",
   "execution_count": null,
   "id": "22dd660c",
   "metadata": {},
   "outputs": [],
   "source": [
    "y1 == y2"
   ]
  },
  {
   "cell_type": "code",
   "execution_count": null,
   "id": "51ed5ec5",
   "metadata": {},
   "outputs": [],
   "source": [
    "y3 = torch.rand_like(tensor)\n",
    "torch.matmul(tensor, tensor.T, out=y3)"
   ]
  },
  {
   "cell_type": "code",
   "execution_count": null,
   "id": "85c46277",
   "metadata": {},
   "outputs": [],
   "source": [
    "y1 == y3"
   ]
  },
  {
   "cell_type": "markdown",
   "id": "82164b1a",
   "metadata": {},
   "source": [
    "Element-wise product:"
   ]
  },
  {
   "cell_type": "code",
   "execution_count": null,
   "id": "da76dca9",
   "metadata": {},
   "outputs": [],
   "source": [
    "# This computes the element-wise product. z1, z2, z3 will have the same value\n",
    "z1 = tensor * tensor\n",
    "z2 = tensor.mul(tensor)\n",
    "\n",
    "z3 = torch.rand_like(tensor)\n",
    "torch.mul(tensor, tensor, out=z3)"
   ]
  },
  {
   "cell_type": "markdown",
   "id": "99a005b6",
   "metadata": {},
   "source": [
    "If you have a one-element tensor, for example by aggregating all\n",
    "values of a tensor into one value, you can convert it to a Python\n",
    "numerical value using ``item()``:"
   ]
  },
  {
   "cell_type": "code",
   "execution_count": null,
   "id": "28c1b695",
   "metadata": {},
   "outputs": [],
   "source": [
    "agg = tensor.sum()\n",
    "agg_item = agg.item()\n",
    "print(agg_item, type(agg_item))"
   ]
  },
  {
   "cell_type": "markdown",
   "id": "a60c8c53",
   "metadata": {},
   "source": [
    "**In-place operations**\n",
    "Operations that store the result into the operand are called in-place. They are denoted by a ``_`` suffix.\n",
    "For example: ``x.copy_(y)``, ``x.t_()``, will change ``x``."
   ]
  },
  {
   "cell_type": "code",
   "execution_count": null,
   "id": "e4b6e39f",
   "metadata": {},
   "outputs": [],
   "source": [
    "print(tensor, \"\\n\")\n",
    "tensor.add_(5)\n",
    "print(tensor)"
   ]
  },
  {
   "cell_type": "markdown",
   "id": "544fb614",
   "metadata": {},
   "source": [
    "<div class=\"alert alert-info\"><h4>Note</h4><p>In-place operations save some memory, but can be problematic when computing derivatives because of an immediate loss\n",
    "     of history. Hence, their use is discouraged.</p></div>\n",
    "     \n",
    "Tensor to NumPy array:"
   ]
  },
  {
   "cell_type": "code",
   "execution_count": null,
   "id": "22ef8346",
   "metadata": {},
   "outputs": [],
   "source": [
    "t = torch.ones(5)\n",
    "print(f\"t: {t}\")\n",
    "n = t.numpy()\n",
    "print(f\"n: {n}\")"
   ]
  },
  {
   "cell_type": "markdown",
   "id": "01698bc4",
   "metadata": {},
   "source": [
    "A change in the tensor reflects in the NumPy array"
   ]
  },
  {
   "cell_type": "code",
   "execution_count": null,
   "id": "9a4952b4",
   "metadata": {},
   "outputs": [],
   "source": [
    "t.add_(1)\n",
    "print(f\"t: {t}\")\n",
    "print(f\"n: {n}\")"
   ]
  },
  {
   "cell_type": "markdown",
   "id": "26961a63",
   "metadata": {},
   "source": [
    "numpy array to tensor:"
   ]
  },
  {
   "cell_type": "code",
   "execution_count": null,
   "id": "6dd22f68",
   "metadata": {},
   "outputs": [],
   "source": [
    "n = np.ones(5)\n",
    "t = torch.from_numpy(n)"
   ]
  },
  {
   "cell_type": "markdown",
   "id": "ad5e6c9b",
   "metadata": {},
   "source": [
    "Changes in the NumPy array reflects in the tensor."
   ]
  },
  {
   "cell_type": "code",
   "execution_count": null,
   "id": "8a013b8c",
   "metadata": {},
   "outputs": [],
   "source": [
    "np.add(n, 1, out=n)\n",
    "print(f\"t: {t}\")\n",
    "print(f\"n: {n}\")"
   ]
  },
  {
   "cell_type": "code",
   "execution_count": null,
   "id": "756ab996",
   "metadata": {},
   "outputs": [],
   "source": []
  }
 ],
 "metadata": {
  "kernelspec": {
   "display_name": "Python 3 (ipykernel)",
   "language": "python",
   "name": "python3"
  },
  "language_info": {
   "codemirror_mode": {
    "name": "ipython",
    "version": 3
   },
   "file_extension": ".py",
   "mimetype": "text/x-python",
   "name": "python",
   "nbconvert_exporter": "python",
   "pygments_lexer": "ipython3",
   "version": "3.9.7"
  }
 },
 "nbformat": 4,
 "nbformat_minor": 5
}
